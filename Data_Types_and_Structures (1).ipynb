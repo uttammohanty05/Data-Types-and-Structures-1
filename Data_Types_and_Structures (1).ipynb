{
  "nbformat": 4,
  "nbformat_minor": 0,
  "metadata": {
    "colab": {
      "provenance": []
    },
    "kernelspec": {
      "name": "python3",
      "display_name": "Python 3"
    },
    "language_info": {
      "name": "python"
    }
  },
  "cells": [
    {
      "cell_type": "markdown",
      "source": [
        "#data types and structures"
      ],
      "metadata": {
        "id": "Q41aAvpQUeX3"
      }
    },
    {
      "cell_type": "markdown",
      "source": [
        "01. What are data structures, and why are they important ?\n",
        "\n",
        "ANS:- **Data structures** are ways of\n",
        "       organizing and storing data to make it efficient to access, modify, and manage. Common examples include lists, dictionaries, sets, and tuples.\n",
        "\n",
        "           ### Why they're important:\n",
        "      \n",
        "       - **Efficiency**: They improve performance for tasks like searching, inserting, and deleting data.\n",
        "\n",
        "       - **Organization**: Help in structuring data in a meaningful way to solve problems effectively.\n",
        "\n",
        "-       **Optimization**: Choose the\n",
        "        right data structure to handle specific types of data and operations, reducing time and space complexity.\n",
        "\n",
        "02. Explain the difference between\n",
        "     mutable and immutable data types with examples ?\n",
        "\n",
        "ANS:- Mutable data types can be changed\n",
        "      after creation, while immutable data types cannot.\n",
        "\n",
        "      Mutable Examples:\n",
        "      Lists: You can modify, add, or remove items.\n",
        "\n",
        "      my_list = [1, 2]\n",
        "      my_list[0] = 3  # Changes list to [3, 2]\n",
        "           \n",
        "      Dictionaries: You can update key-value pairs.\n",
        "\n",
        "      my_dict = {'a': 1}\n",
        "      my_dict['a'] = 2  # Changes dict to {'a': 2}\n",
        "\n",
        "      Immutable Examples:\n",
        "      Tuples: Cannot change elements once created.\n",
        "\n",
        "      my_tuple = (1, 2)\n",
        "      my_tuple[0] = 3  # Error: TypeError\n",
        "\n",
        "     Strings: Cannot modify characters.  \n",
        "\n",
        "     my_string = \"hello\"\n",
        "     my_string[0] = 'H'  # Error: TypeError\n",
        "\n",
        "03. What are the main differences\n",
        "    between lists and tuples in Python ?\n",
        "\n",
        " ANS:- Here are the main differences    between lists and tuples in Python:\n",
        "\n",
        "i. **Mutability**:\n",
        "   - **Lists** are **mutable** (can be changed).\n",
        "   - **Tuples** are **immutable** (cannot be changed).\n",
        "\n",
        "ii. **Syntax**:\n",
        "   - **Lists** use square brackets: `[1, 2, 3]`.\n",
        "   - **Tuples** use parentheses: `(1, 2, 3)`.\n",
        "\n",
        "iii. **Performance**:\n",
        "   - **Tuples** are generally faster than lists because they are immutable.\n",
        "\n",
        "iv. **Use cases**:\n",
        "   - **Lists** are used when you need to modify data.\n",
        "   - **Tuples** are used when you need fixed, unchangeable data.\n",
        "\n",
        "04. Describe how dictionaries store  \n",
        "    data ?\n",
        "\n",
        " ANS:- Dictionaries in Python store  \n",
        "      data as key-value pairs. Each key is unique, and it maps to a corresponding value. This allows for fast access to values using their associated keys.\n",
        "\n",
        "   Example:  \n",
        "           my_dict = {'name': 'uttam', 'age': 21}\n",
        "\n",
        "05. Why might you use a set instead     of a list in Python ?\n",
        "\n",
        " ANS:- You might use a **set** instead\n",
        "       of a **list** in Python when:\n",
        "\n",
        "     i. **Uniqueness**: Sets automatically remove duplicates, ensuring only unique elements.\n",
        "    \n",
        "    ii. **Faster membership tests**: Checking if an item exists in a set is faster (O(1) time complexity) compared to a list (O(n)).\n",
        "    \n",
        "    iii. **Set operations**: Sets support mathematical operations like union, intersection, and difference.\n",
        "\n",
        "06.  What is a string in Python, and   how  is it different from a list ?\n",
        "\n",
        " ANS:- A **string** in Python is a\n",
        "       sequence of characters, enclosed in single, double, or triple quotes (`'hello'`, `\"world\"`, `'''python'''`).\n",
        "\n",
        "      ### Differences from a list:\n",
        "         i. **Mutability**:\n",
        "            - **String**: **Immutable** (cannot be changed after creation).\n",
        "\n",
        "            - **List**: **Mutable** (can be modified).\n",
        "\n",
        "        ii. **Content**:\n",
        "            - **String**: Contains **characters** only.\n",
        "\n",
        "            - **List**: Can contain **any type of data** (numbers, strings, other lists, etc.).\n",
        "\n",
        "        iii. **Operations**:\n",
        "            - **String**: Supports text-specific operations like slicing, concatenation, and formatting.\n",
        "\n",
        "            - **List**: Supports adding, removing, or changing elements.\n",
        "\n",
        "07. How do tuples ensure data integrity\n",
        "     in Python ?\n",
        "\n",
        " ANS:- Tuples ensure **data integrity**\n",
        "      in Python by being **immutable**, meaning once created, their elements cannot be changed, added, or removed. This prevents accidental modifications to data, making tuples ideal for storing fixed, reliable data that should remain consistent throughout the program.\n",
        "\n",
        "08.  What is a hash table, and how does\n",
        "     it relate to dictionaries in Python ?\n",
        "\n",
        "  ANS:- A **hash table** is a data\n",
        "        structure that stores key-value pairs and uses a **hash function** to compute an index (or hash) where the value associated with the key is stored. This allows for fast access to values based on their keys.\n",
        "\n",
        "       In Python, **dictionaries** are implemented using a hash table. When you use a dictionary, Python automatically uses a hash function to map the keys to specific locations in memory, enabling fast lookups, insertions, and deletions.\n",
        "\n",
        "09.  Can lists contain different data\n",
        "     types in Python ?\n",
        "\n",
        "  ANS:- Yes, lists in Python can  \n",
        "        contain different data types. A single list can store integers, strings, floats, and even other lists or objects.\n",
        "\n",
        "       Example:\n",
        "               my_list = [1, \"hello\", 3.14, [2, 3]]\n",
        "\n",
        "10. Explain why strings are immutable  \n",
        "     in Python ?\n",
        "\n",
        "  ANS:- Strings are **immutable** in\n",
        "        Python to ensure **data integrity** and **efficiency**. Once created, their content cannot be changed, preventing accidental modifications. This immutability also allows strings to be stored more efficiently in memory, as they can be shared safely between different parts of the program without risk of unintended changes.\n",
        "\n",
        "11. What advantages do dictionaries\n",
        "     offer over lists for certain tasks ?\n",
        "\n",
        " ANS:-  Dictionaries offer several advantages over lists:\n",
        "\n",
        "     i. **Faster lookups**: Accessing values by keys is quicker (O(1)) compared to searching through a list (O(n)).\n",
        "\n",
        "     ii. **Key-value mapping**: Ideal for associating related data (e.g., name -> age).\n",
        "\n",
        "     iii. **No duplicates**: Keys must be unique, preventing repeated data.\n",
        "\n",
        "     iv. **Efficient searching by attribute**: You can quickly find values based on their keys.  \n",
        "\n",
        "12.  Describe a scenario where using a\n",
        "     tuple would be preferable over a list ?\n",
        "\n",
        "  ANS:- A tuple would be preferable  \n",
        "        over a list in a scenario where you need to store a collection of values that shouldn't change. For example, if you're storing the coordinates of a point in a 2D space, like `(x, y)`, using a tuple ensures the data remains immutable, preventing accidental modification. This is important when you want to maintain data integrity, such as in geographic locations or fixed configurations.\n",
        "\n",
        "13.  How do sets handle duplicate  \n",
        "     values in Python ?\n",
        "\n",
        "  ANS:- Sets in Python automatically\n",
        "        remove duplicates. They only store unique values, so if you try to add a duplicate value, it won't be included. For example:  \n",
        "\n",
        "                my_set = {1, 2, 2, 3}\n",
        "                print(my_set)  # Output: {1, 2, 3}\n",
        "\n",
        "14. How does the “in” keyword work\n",
        "     differently for lists and dictionaries ?\n",
        "\n",
        "   ANS:- The `in` keyword checks differently for lists and dictionaries:\n",
        "\n",
        "      - **Lists**: Checks if a **value** is in the list.\n",
        "        \n",
        "      - **Dictionaries**: Checks if a **key** is in the dictionary (not the value).\n",
        "\n",
        "15. Can you modify the elements of a\n",
        "     tuple? Explain why or why not ?\n",
        "\n",
        "  ANS:- No, you cannot modify the\n",
        "        elements of a tuple because tuples are immutable in Python. Once a tuple is created, its elements cannot be changed, added, or removed. This immutability ensures that the data stored in a tuple remains consistent and cannot be altered accidentally.\n",
        "\n",
        "16.  What is a nested dictionary, and\n",
        "     give an example of its use case ?\n",
        "\n",
        " ANS:- A nested dictionary is a\n",
        "       dictionary where the values are other dictionaries. This allows you to represent complex data structures, like hierarchical information.\n",
        "\n",
        "       Example:\n",
        "              student_info = {\n",
        "    'John': {'age': 18, 'grade': 'A'},\n",
        "    'Emma': {'age': 20, 'grade': 'B'}\n",
        "}\n",
        "             \n",
        "     Use case:\n",
        "      A nested dictionary can be used to store student information where each student's details (like age and grade) are stored as a dictionary under their name.\n",
        "\n",
        "17.  Describe the time complexity of\n",
        "      accessing elements in a dictionary ?\n",
        "\n",
        "  ANS:- The time complexity of  \n",
        "        accessing elements in a dictionary is **O(1)** on average. This means retrieving a value using a key is very fast, regardless of the size of the dictionary, because dictionaries use a hash table for efficient lookups.\n",
        "\n",
        "18. In what situations are lists\n",
        "     preferred over dictionaries ?\n",
        "\n",
        "  ANS:- **Lists** are preferred over\n",
        "        **dictionaries** when:\n",
        "\n",
        "        i. **Order matters**: Lists maintain the order of elements, while dictionaries don't guarantee order (until Python 3.7+ where insertion order is preserved).\n",
        "\n",
        "        ii. **Index-based access**: When you need to access elements by position (index) rather than by a key.\n",
        "\n",
        "        iii. **Homogeneous data**: When you're working with a collection of similar items, like numbers or strings, and don't need key-value pairs.  \n",
        "\n",
        "\n",
        "19.  Why are dictionaries considered\n",
        "     unordered, and how does that affect data retrieval ?\n",
        "\n",
        "  ANS:- Dictionaries are considered\n",
        "        **unordered** because their key-value pairs are stored based on a hash function, not in a specific sequence. However, starting from Python 3.7, they maintain insertion order.\n",
        "\n",
        "        This affects data retrieval because:\n",
        "\n",
        "        - You **cannot** rely on the order of elements.\n",
        "\n",
        "        - Data is accessed using **keys**, not positions or indices, ensuring fast lookups (O(1)) but without guaranteed order.  \n",
        "\n",
        "20.  Explain the difference between a\n",
        "     list and a dictionary in terms of data retrieval ?    \n",
        "\n",
        "  ANS:- In a **list**, data is  \n",
        "         retrieved by **index**, which is an integer position in the list (e.g., `my_list[0]` for the first item). The retrieval is **sequential**.\n",
        "\n",
        "        In a **dictionary**, data is retrieved by **key** (e.g., `my_dict['key']`), and keys can be any immutable data type. Retrieval is **faster** (O(1) on average) because dictionaries use a hash table for efficient lookups.                                     "
      ],
      "metadata": {
        "id": "FUM4hoG1pO1U"
      }
    },
    {
      "cell_type": "markdown",
      "source": [
        "Practical Questions"
      ],
      "metadata": {
        "id": "IKv5gUEr3M8w"
      }
    },
    {
      "cell_type": "markdown",
      "source": [
        "01. Write a code to create a string with your name and print it ?"
      ],
      "metadata": {
        "id": "NqU4QNtC3Vwf"
      }
    },
    {
      "cell_type": "code",
      "source": [
        "print(\"uttam\")"
      ],
      "metadata": {
        "id": "wAf_wiiTxRZs",
        "colab": {
          "base_uri": "https://localhost:8080/"
        },
        "outputId": "103abd12-013a-40d1-9ab6-17b3c642d0da"
      },
      "execution_count": 3,
      "outputs": [
        {
          "output_type": "stream",
          "name": "stdout",
          "text": [
            "uttam\n"
          ]
        }
      ]
    },
    {
      "cell_type": "markdown",
      "source": [
        "02. Write a code to find the length of the string \"Hello World\" ?"
      ],
      "metadata": {
        "id": "K-JAnedU4YlP"
      }
    },
    {
      "cell_type": "code",
      "source": [
        "# Defining the string\n",
        "my_string = \"Hello World\"\n",
        "\n",
        "# Finding the length of the string\n",
        "length_of_string = len(my_string)\n",
        "\n",
        "# Printing the length\n",
        "print(length_of_string)\n"
      ],
      "metadata": {
        "id": "qmTIkhJC3lIh",
        "colab": {
          "base_uri": "https://localhost:8080/"
        },
        "outputId": "e17a4ee5-e9e0-45d1-d6c7-a6ee61eba954"
      },
      "execution_count": 4,
      "outputs": [
        {
          "output_type": "stream",
          "name": "stdout",
          "text": [
            "11\n"
          ]
        }
      ]
    },
    {
      "cell_type": "markdown",
      "source": [
        "03.  Write a code to slice the first 3 characters from the string \"Python Programming\" ?"
      ],
      "metadata": {
        "id": "t3elRzNR4unl"
      }
    },
    {
      "cell_type": "code",
      "source": [
        "# Defining the string\n",
        "my_string = \"uttam\"\n",
        "\n",
        "# Slicing the first 3 characters\n",
        "sliced_string = my_string[:3]\n",
        "\n",
        "# Printing the sliced string\n",
        "print(sliced_string)\n"
      ],
      "metadata": {
        "colab": {
          "base_uri": "https://localhost:8080/"
        },
        "id": "dOgUbMlz4th-",
        "outputId": "086b09ae-9ad2-4380-b747-2d2bb111eb61"
      },
      "execution_count": 5,
      "outputs": [
        {
          "output_type": "stream",
          "name": "stdout",
          "text": [
            "utt\n"
          ]
        }
      ]
    },
    {
      "cell_type": "markdown",
      "source": [
        "04.  Write a code to convert the string \"hello\" to uppercase ?"
      ],
      "metadata": {
        "id": "9sCndqpt5Gsd"
      }
    },
    {
      "cell_type": "code",
      "source": [
        "# Defining the string\n",
        "my_string = \"hello\"\n",
        "\n",
        "# Converting the string to uppercase\n",
        "uppercase_string = my_string.upper()\n",
        "\n",
        "# Printing the uppercase string\n",
        "print(uppercase_string)\n"
      ],
      "metadata": {
        "colab": {
          "base_uri": "https://localhost:8080/"
        },
        "id": "CHcMARmU5MEI",
        "outputId": "78d14ae1-91c7-4076-a301-3882233be9c1"
      },
      "execution_count": 6,
      "outputs": [
        {
          "output_type": "stream",
          "name": "stdout",
          "text": [
            "HELLO\n"
          ]
        }
      ]
    },
    {
      "cell_type": "markdown",
      "source": [
        "05. Write a code to replace the word \"apple\" with \"orange\" in the string \"I like apple\" ?"
      ],
      "metadata": {
        "id": "ZhjjUGK35VsE"
      }
    },
    {
      "cell_type": "code",
      "source": [
        "# Defining the string\n",
        "my_string = \"I like apple\"\n",
        "\n",
        "# Replacing 'apple' with 'orange'\n",
        "new_string = my_string.replace(\"apple\", \"orange\")\n",
        "\n",
        "# Printing the new string\n",
        "print(new_string)\n"
      ],
      "metadata": {
        "colab": {
          "base_uri": "https://localhost:8080/"
        },
        "id": "VhvPmqgl5ba2",
        "outputId": "184014d1-1a09-41a5-97c8-0f23a4f843fd"
      },
      "execution_count": 7,
      "outputs": [
        {
          "output_type": "stream",
          "name": "stdout",
          "text": [
            "I like orange\n"
          ]
        }
      ]
    },
    {
      "cell_type": "markdown",
      "source": [
        "06. Write a code to create a list with numbers 1 to 5 and print it ?"
      ],
      "metadata": {
        "id": "RdRWrBbW5kx9"
      }
    },
    {
      "cell_type": "code",
      "source": [
        "# Creating the list with numbers 1 to 5\n",
        "my_list = [1, 2, 3, 4, 5]\n",
        "\n",
        "# Printing the list\n",
        "print(my_list)\n"
      ],
      "metadata": {
        "colab": {
          "base_uri": "https://localhost:8080/"
        },
        "id": "Csb8MJkM5jsf",
        "outputId": "3784a9be-fb6f-4bf2-a7fe-d3a30f576783"
      },
      "execution_count": 8,
      "outputs": [
        {
          "output_type": "stream",
          "name": "stdout",
          "text": [
            "[1, 2, 3, 4, 5]\n"
          ]
        }
      ]
    },
    {
      "cell_type": "markdown",
      "source": [
        "07. Write a code to append the number 10 to the list [1, 2, 3, 4] ?"
      ],
      "metadata": {
        "id": "63zghJCu524c"
      }
    },
    {
      "cell_type": "code",
      "source": [
        "# Defining the list\n",
        "my_list = [1, 2, 3, 4]\n",
        "\n",
        "# Appending the number 10 to the list\n",
        "my_list.append(10)\n",
        "\n",
        "# Printing the updated list\n",
        "print(my_list)\n"
      ],
      "metadata": {
        "colab": {
          "base_uri": "https://localhost:8080/"
        },
        "id": "xUqE5cCJ5wLt",
        "outputId": "90944006-c0f1-41aa-98bf-6bdc9ab27dd7"
      },
      "execution_count": 9,
      "outputs": [
        {
          "output_type": "stream",
          "name": "stdout",
          "text": [
            "[1, 2, 3, 4, 10]\n"
          ]
        }
      ]
    },
    {
      "cell_type": "markdown",
      "source": [
        "08.  Write a code to remove the number 3 from the list [1, 2, 3, 4, 5] ?"
      ],
      "metadata": {
        "id": "VQC3N0GG6Trr"
      }
    },
    {
      "cell_type": "code",
      "source": [
        "my_list = [1, 2, 3, 4, 5]\n",
        "my_list.remove(3)  # Removes the first occurrence of 3\n",
        "print(my_list)\n"
      ],
      "metadata": {
        "colab": {
          "base_uri": "https://localhost:8080/"
        },
        "id": "0utg3nfF6PZ0",
        "outputId": "b5f9b532-d1ca-4aac-bba2-79e812e68ccd"
      },
      "execution_count": 10,
      "outputs": [
        {
          "output_type": "stream",
          "name": "stdout",
          "text": [
            "[1, 2, 4, 5]\n"
          ]
        }
      ]
    },
    {
      "cell_type": "markdown",
      "source": [
        "09.  Write a code to access the second element in the list ['a', 'b', 'c', 'd'] ?"
      ],
      "metadata": {
        "id": "y0FoM9zD7pxq"
      }
    },
    {
      "cell_type": "code",
      "source": [
        "my_list = ['a', 'b', 'c', 'd']\n",
        "second_element = my_list[1]  # Index 1 corresponds to the second element\n",
        "print(second_element)\n"
      ],
      "metadata": {
        "colab": {
          "base_uri": "https://localhost:8080/"
        },
        "id": "TxrCdM197n8L",
        "outputId": "51ca9089-bc89-4fdc-c2a9-152958bc2487"
      },
      "execution_count": 11,
      "outputs": [
        {
          "output_type": "stream",
          "name": "stdout",
          "text": [
            "b\n"
          ]
        }
      ]
    },
    {
      "cell_type": "markdown",
      "source": [
        "10. Write a code to reverse the list [10, 20, 30, 40, 50]."
      ],
      "metadata": {
        "id": "7eCEhK6B74wy"
      }
    },
    {
      "cell_type": "code",
      "source": [
        "my_list = [10, 20, 30, 40, 50]\n",
        "my_list.reverse()  # Reverses the list in place\n",
        "print(my_list)\n"
      ],
      "metadata": {
        "colab": {
          "base_uri": "https://localhost:8080/"
        },
        "id": "4cCQHcci72s6",
        "outputId": "1e74d723-c671-424f-92a0-74fd668be18b"
      },
      "execution_count": 12,
      "outputs": [
        {
          "output_type": "stream",
          "name": "stdout",
          "text": [
            "[50, 40, 30, 20, 10]\n"
          ]
        }
      ]
    },
    {
      "cell_type": "markdown",
      "source": [
        "11. Write a code to create a tuple with the elements 100, 200, 300 and print it."
      ],
      "metadata": {
        "id": "Jinsj4CKBjfk"
      }
    },
    {
      "cell_type": "code",
      "source": [
        "my_tuple = (100, 200, 300)\n",
        "print(my_tuple)\n"
      ],
      "metadata": {
        "colab": {
          "base_uri": "https://localhost:8080/"
        },
        "id": "ZuY4ewK5Bvnk",
        "outputId": "3d947dcb-11ae-4721-802b-871e0438f3a2"
      },
      "execution_count": 13,
      "outputs": [
        {
          "output_type": "stream",
          "name": "stdout",
          "text": [
            "(100, 200, 300)\n"
          ]
        }
      ]
    },
    {
      "cell_type": "markdown",
      "source": [
        "12. Write a code to access the second-to-last element of the tuple ('red', 'green', 'blue', 'yellow')."
      ],
      "metadata": {
        "id": "MCdWoZYwB4zU"
      }
    },
    {
      "cell_type": "code",
      "source": [
        "my_tuple = ('red', 'green', 'blue', 'yellow')\n",
        "second_to_last = my_tuple[-2]  # -2 refers to the second-to-last element\n",
        "print(second_to_last)\n"
      ],
      "metadata": {
        "colab": {
          "base_uri": "https://localhost:8080/"
        },
        "id": "1axem7nTB2Gt",
        "outputId": "825521b0-c7d1-4b8f-d4b0-74995aa25002"
      },
      "execution_count": 14,
      "outputs": [
        {
          "output_type": "stream",
          "name": "stdout",
          "text": [
            "blue\n"
          ]
        }
      ]
    },
    {
      "cell_type": "markdown",
      "source": [
        "13. Write a code to find the minimum number in the tuple (10, 20, 5, 15)."
      ],
      "metadata": {
        "id": "eNKkZcOZCPiU"
      }
    },
    {
      "cell_type": "code",
      "source": [
        "my_tuple = (10, 20, 5, 15)\n",
        "minimum_number = min(my_tuple)  # Finds the minimum number in the tuple\n",
        "print(minimum_number)\n"
      ],
      "metadata": {
        "colab": {
          "base_uri": "https://localhost:8080/"
        },
        "id": "e-rRHBMKCNOT",
        "outputId": "f95802d7-cd5e-4374-978b-e66f0809da5a"
      },
      "execution_count": 15,
      "outputs": [
        {
          "output_type": "stream",
          "name": "stdout",
          "text": [
            "5\n"
          ]
        }
      ]
    },
    {
      "cell_type": "markdown",
      "source": [
        "14. Write a code to find the index of the element \"cat\" in the tuple ('dog', 'cat', 'rabbit')."
      ],
      "metadata": {
        "id": "8BVkSt8lCbTr"
      }
    },
    {
      "cell_type": "code",
      "source": [
        "my_tuple = ('dog', 'cat', 'rabbit')\n",
        "index_of_cat = my_tuple.index('cat')  # Finds the index of 'cat'\n",
        "print(index_of_cat)\n"
      ],
      "metadata": {
        "colab": {
          "base_uri": "https://localhost:8080/"
        },
        "id": "C787hEngCZYs",
        "outputId": "911e2931-d818-4f5b-a297-007bf7c765bc"
      },
      "execution_count": 16,
      "outputs": [
        {
          "output_type": "stream",
          "name": "stdout",
          "text": [
            "1\n"
          ]
        }
      ]
    },
    {
      "cell_type": "markdown",
      "source": [
        "15. Write a code to create a tuple containing three different fruits and check if \"kiwi\" is in it."
      ],
      "metadata": {
        "id": "Gcs-uhucCqVL"
      }
    },
    {
      "cell_type": "code",
      "source": [
        "fruits_tuple = ('apple', 'banana', 'cherry')  # Tuple with three different fruits\n",
        "is_kiwi_in_tuple = 'kiwi' in fruits_tuple  # Check if 'kiwi' is in the tuple\n",
        "print(is_kiwi_in_tuple)\n"
      ],
      "metadata": {
        "colab": {
          "base_uri": "https://localhost:8080/"
        },
        "id": "96gAa7wPCo3z",
        "outputId": "aed5950a-2cff-439a-94ae-7ebd833ea713"
      },
      "execution_count": 17,
      "outputs": [
        {
          "output_type": "stream",
          "name": "stdout",
          "text": [
            "False\n"
          ]
        }
      ]
    },
    {
      "cell_type": "markdown",
      "source": [
        "16. Write a code to create a set with the elements 'a', 'b', 'c' and print it."
      ],
      "metadata": {
        "id": "Zs7LqTwbDFSe"
      }
    },
    {
      "cell_type": "code",
      "source": [
        "my_set = {'a', 'b', 'c'}  # Creating a set with the elements 'a', 'b', 'c'\n",
        "print(my_set)\n"
      ],
      "metadata": {
        "colab": {
          "base_uri": "https://localhost:8080/"
        },
        "id": "arQlh4n8DCWT",
        "outputId": "9ab7047d-66f0-4eae-f75a-f1be9e1dc55a"
      },
      "execution_count": 21,
      "outputs": [
        {
          "output_type": "stream",
          "name": "stdout",
          "text": [
            "{'b', 'c', 'a'}\n"
          ]
        }
      ]
    },
    {
      "cell_type": "markdown",
      "source": [
        "17. Write a code to clear all elements from the set {1, 2, 3, 4, 5}."
      ],
      "metadata": {
        "id": "5TBQkaeBDiTS"
      }
    },
    {
      "cell_type": "code",
      "source": [
        "my_set = {1, 2, 3, 4, 5}\n",
        "my_set.clear()  # Clears all elements from the set\n",
        "print(my_set)\n"
      ],
      "metadata": {
        "colab": {
          "base_uri": "https://localhost:8080/"
        },
        "id": "wW9ExIYoDNuK",
        "outputId": "f7057ade-d02f-4a40-9f24-391a325ea130"
      },
      "execution_count": 22,
      "outputs": [
        {
          "output_type": "stream",
          "name": "stdout",
          "text": [
            "set()\n"
          ]
        }
      ]
    },
    {
      "cell_type": "markdown",
      "source": [
        "18. Write a code to remove the element 4 from the set {1, 2, 3, 4}."
      ],
      "metadata": {
        "id": "tt0xvx6NDzW5"
      }
    },
    {
      "cell_type": "code",
      "source": [
        "my_set = {1, 2, 3, 4}\n",
        "my_set.remove(4)  # Removes the element 4 from the set\n",
        "print(my_set)\n"
      ],
      "metadata": {
        "colab": {
          "base_uri": "https://localhost:8080/"
        },
        "id": "GRHu6vMADwOw",
        "outputId": "b4e4901e-415c-4b3d-ea38-f8a2dca9fbf1"
      },
      "execution_count": 23,
      "outputs": [
        {
          "output_type": "stream",
          "name": "stdout",
          "text": [
            "{1, 2, 3}\n"
          ]
        }
      ]
    },
    {
      "cell_type": "markdown",
      "source": [
        "19. Write a code to find the union of two sets {1, 2, 3} and {3, 4, 5}."
      ],
      "metadata": {
        "id": "aaZ4RiDxD-xR"
      }
    },
    {
      "cell_type": "code",
      "source": [
        "set1 = {1, 2, 3}\n",
        "set2 = {3, 4, 5}\n",
        "union_set = set1.union(set2)  # Finds the union of the two sets\n",
        "print(union_set)\n"
      ],
      "metadata": {
        "colab": {
          "base_uri": "https://localhost:8080/"
        },
        "id": "tvlIac4kD9ys",
        "outputId": "96762c8a-17b8-4884-e8ce-3ecdd4ebd6a5"
      },
      "execution_count": 24,
      "outputs": [
        {
          "output_type": "stream",
          "name": "stdout",
          "text": [
            "{1, 2, 3, 4, 5}\n"
          ]
        }
      ]
    },
    {
      "cell_type": "markdown",
      "source": [
        "20. Write a code to find the intersection of two sets {1, 2, 3} and {2, 3, 4}."
      ],
      "metadata": {
        "id": "FpzB_iBmELnh"
      }
    },
    {
      "cell_type": "code",
      "source": [
        "set1 = {1, 2, 3}\n",
        "set2 = {2, 3, 4}\n",
        "intersection_set = set1 & set2  # Finds the intersection of the two sets using the & operator\n",
        "print(intersection_set)\n"
      ],
      "metadata": {
        "colab": {
          "base_uri": "https://localhost:8080/"
        },
        "id": "DlrNZJiEEH9y",
        "outputId": "30e8056b-4991-459b-b06a-9e78fd936b25"
      },
      "execution_count": 25,
      "outputs": [
        {
          "output_type": "stream",
          "name": "stdout",
          "text": [
            "{2, 3}\n"
          ]
        }
      ]
    },
    {
      "cell_type": "markdown",
      "source": [
        "21. Write a code to create a dictionary with the keys \"name\", \"age\", and \"city\", and print it."
      ],
      "metadata": {
        "id": "lStU4xlQEZdx"
      }
    },
    {
      "cell_type": "code",
      "source": [
        "my_dict = {\n",
        "    \"uttam\": \"value1\",\n",
        "    \"20\": \"value2\",\n",
        "    \"jamshedpur\": \"value3\"\n",
        "}\n",
        "print(my_dict)\n"
      ],
      "metadata": {
        "colab": {
          "base_uri": "https://localhost:8080/"
        },
        "id": "bA_Khn5HEXVy",
        "outputId": "1e04cd07-a2d4-44a6-d3bd-262bd0404fc2"
      },
      "execution_count": 26,
      "outputs": [
        {
          "output_type": "stream",
          "name": "stdout",
          "text": [
            "{'uttam': 'value1', '20': 'value2', 'jamshedpur': 'value3'}\n"
          ]
        }
      ]
    },
    {
      "cell_type": "markdown",
      "source": [
        "22. Write a code to add a new key-value pair \"country\": \"USA\" to the dictionary {'name': 'John', 'age': 25}."
      ],
      "metadata": {
        "id": "s5i8kx0xEyow"
      }
    },
    {
      "cell_type": "code",
      "source": [
        "my_dict = {'name': 'John', 'age': 25}\n",
        "my_dict['country'] = 'USA'  # Adds the new key-value pair\n",
        "print(my_dict)\n"
      ],
      "metadata": {
        "colab": {
          "base_uri": "https://localhost:8080/"
        },
        "id": "rpBYrSS8ExBh",
        "outputId": "78ef5e3d-d7bf-462f-cd1f-8d6453168902"
      },
      "execution_count": 27,
      "outputs": [
        {
          "output_type": "stream",
          "name": "stdout",
          "text": [
            "{'name': 'John', 'age': 25, 'country': 'USA'}\n"
          ]
        }
      ]
    },
    {
      "cell_type": "markdown",
      "source": [
        "23. Write a code to access the value associated with the key \"name\" in the dictionary {'name': 'Alice', 'age': 30}."
      ],
      "metadata": {
        "id": "lvD8mbBzFUZw"
      }
    },
    {
      "cell_type": "code",
      "source": [
        "my_dict = {'name': 'Alice', 'age': 30}\n",
        "name_value = my_dict['name']  # Access the value associated with the key 'name'\n",
        "print(name_value)\n"
      ],
      "metadata": {
        "colab": {
          "base_uri": "https://localhost:8080/"
        },
        "id": "f4W8J9QAFSTJ",
        "outputId": "c6f28745-0266-44b8-8db2-690ae466b1ec"
      },
      "execution_count": 28,
      "outputs": [
        {
          "output_type": "stream",
          "name": "stdout",
          "text": [
            "Alice\n"
          ]
        }
      ]
    },
    {
      "cell_type": "markdown",
      "source": [
        "24. Write a code to remove the key \"age\" from the dictionary {'name': 'Bob', 'age': 22, 'city': 'New York'}."
      ],
      "metadata": {
        "id": "aBF_zDCUFgXX"
      }
    },
    {
      "cell_type": "code",
      "source": [
        "my_dict = {'name': 'Bob', 'age': 22, 'city': 'New York'}\n",
        "del my_dict['age']  # Removes the key 'age' from the dictionary\n",
        "print(my_dict)\n"
      ],
      "metadata": {
        "colab": {
          "base_uri": "https://localhost:8080/"
        },
        "id": "qU5GxgmlFevo",
        "outputId": "0ca23d01-2c52-48f1-a0f0-a2b214123850"
      },
      "execution_count": 29,
      "outputs": [
        {
          "output_type": "stream",
          "name": "stdout",
          "text": [
            "{'name': 'Bob', 'city': 'New York'}\n"
          ]
        }
      ]
    },
    {
      "cell_type": "markdown",
      "source": [
        "25. Write a code to check if the key \"city\" exists in the dictionary {'name': 'Alice', 'city': 'Paris'}."
      ],
      "metadata": {
        "id": "lbxGMb4kFti3"
      }
    },
    {
      "cell_type": "code",
      "source": [
        "my_dict = {'name': 'Alice', 'city': 'Paris'}\n",
        "if 'city' in my_dict:\n",
        "    print(\"The key 'city' exists in the dictionary.\")\n",
        "else:\n",
        "    print(\"The key 'city' does not exist in the dictionary.\")\n"
      ],
      "metadata": {
        "colab": {
          "base_uri": "https://localhost:8080/"
        },
        "id": "g7n79iB1FpNP",
        "outputId": "43fab857-f205-4fdc-9e22-e939a7003db2"
      },
      "execution_count": 30,
      "outputs": [
        {
          "output_type": "stream",
          "name": "stdout",
          "text": [
            "The key 'city' exists in the dictionary.\n"
          ]
        }
      ]
    },
    {
      "cell_type": "markdown",
      "source": [
        "26. Write a code to create a list, a tuple, and a dictionary, and print them all."
      ],
      "metadata": {
        "id": "6N4QnKlZF654"
      }
    },
    {
      "cell_type": "code",
      "source": [
        "# Creating a list\n",
        "my_list = [1, 2, 3, 4, 5]\n",
        "\n",
        "# Creating a tuple\n",
        "my_tuple = ('apple', 'banana', 'cherry')\n",
        "\n",
        "# Creating a dictionary\n",
        "my_dict = {'name': 'John', 'age': 30, 'city': 'New York'}\n",
        "\n",
        "# Printing the list, tuple, and dictionary\n",
        "print(\"List:\", my_list)\n",
        "print(\"Tuple:\", my_tuple)\n",
        "print(\"Dictionary:\", my_dict)\n"
      ],
      "metadata": {
        "colab": {
          "base_uri": "https://localhost:8080/"
        },
        "id": "0Jd_NVH3F13P",
        "outputId": "5647557c-b0e0-4ce2-e962-7182483d7400"
      },
      "execution_count": 31,
      "outputs": [
        {
          "output_type": "stream",
          "name": "stdout",
          "text": [
            "List: [1, 2, 3, 4, 5]\n",
            "Tuple: ('apple', 'banana', 'cherry')\n",
            "Dictionary: {'name': 'John', 'age': 30, 'city': 'New York'}\n"
          ]
        }
      ]
    },
    {
      "cell_type": "markdown",
      "source": [
        "27. Write a code to create a list of 5 random numbers between 1 and 100, sort it in ascending order, and print the\n",
        "result.(replaced)"
      ],
      "metadata": {
        "id": "D6F9_T1kGKAP"
      }
    },
    {
      "cell_type": "code",
      "source": [
        "import random\n",
        "\n",
        "# Creating a list of 5 random numbers between 1 and 100\n",
        "random_numbers = [random.randint(1, 100) for _ in range(5)]\n",
        "\n",
        "# Sorting the list in ascending order\n",
        "random_numbers.sort()\n",
        "\n",
        "# Printing the sorted list\n",
        "print(\"Sorted list:\", random_numbers)\n"
      ],
      "metadata": {
        "colab": {
          "base_uri": "https://localhost:8080/"
        },
        "id": "-L6S_8sqGG7H",
        "outputId": "426c8ec2-38ff-4718-cf0a-49e425dc9ea2"
      },
      "execution_count": 32,
      "outputs": [
        {
          "output_type": "stream",
          "name": "stdout",
          "text": [
            "Sorted list: [4, 29, 51, 52, 91]\n"
          ]
        }
      ]
    },
    {
      "cell_type": "markdown",
      "source": [
        "28. Write a code to create a list with strings and print the element at the third index."
      ],
      "metadata": {
        "id": "okYqgtA3Ge8_"
      }
    },
    {
      "cell_type": "code",
      "source": [
        "# Creating a list with strings\n",
        "my_list = [\"apple\", \"banana\", \"cherry\", \"date\", \"elderberry\"]\n",
        "\n",
        "# Printing the element at the third index\n",
        "print(my_list[3])  # Index 3 corresponds to the 4th element in the list\n"
      ],
      "metadata": {
        "colab": {
          "base_uri": "https://localhost:8080/"
        },
        "id": "AAT2HIJdGZ4f",
        "outputId": "ba0a154b-681f-47f6-ff4c-6b424b14fa4c"
      },
      "execution_count": 33,
      "outputs": [
        {
          "output_type": "stream",
          "name": "stdout",
          "text": [
            "date\n"
          ]
        }
      ]
    },
    {
      "cell_type": "markdown",
      "source": [
        "29. Write a code to combine two dictionaries into one and print the result."
      ],
      "metadata": {
        "id": "WKmdRj7eG3BL"
      }
    },
    {
      "cell_type": "code",
      "source": [
        "# Creating two dictionaries\n",
        "dict1 = {'name': 'Alice', 'age': 25}\n",
        "dict2 = {'city': 'Paris', 'country': 'France'}\n",
        "\n",
        "# Combining the dictionaries using update()\n",
        "dict1.update(dict2)\n",
        "\n",
        "# Printing the combined dictionary\n",
        "print(dict1)\n"
      ],
      "metadata": {
        "colab": {
          "base_uri": "https://localhost:8080/"
        },
        "id": "EfEQdAe5GwdW",
        "outputId": "ff2e2b38-df3b-41ea-b91f-fc3e3a64464e"
      },
      "execution_count": 34,
      "outputs": [
        {
          "output_type": "stream",
          "name": "stdout",
          "text": [
            "{'name': 'Alice', 'age': 25, 'city': 'Paris', 'country': 'France'}\n"
          ]
        }
      ]
    },
    {
      "cell_type": "markdown",
      "source": [
        "30.  Write a code to convert a list of strings into a set."
      ],
      "metadata": {
        "id": "om-Fmg2-HDDs"
      }
    },
    {
      "cell_type": "code",
      "source": [
        "# Creating a list of strings\n",
        "my_list = [\"apple\", \"banana\", \"cherry\", \"apple\", \"banana\"]\n",
        "\n",
        "# Converting the list into a set\n",
        "my_set = set(my_list)\n",
        "\n",
        "# Printing the set\n",
        "print(my_set)\n"
      ],
      "metadata": {
        "colab": {
          "base_uri": "https://localhost:8080/"
        },
        "id": "7nyeLpVWHAVO",
        "outputId": "3becb7a2-563b-4626-a13b-3cacd4d2d31f"
      },
      "execution_count": 35,
      "outputs": [
        {
          "output_type": "stream",
          "name": "stdout",
          "text": [
            "{'cherry', 'apple', 'banana'}\n"
          ]
        }
      ]
    },
    {
      "cell_type": "code",
      "source": [],
      "metadata": {
        "id": "mzayM7EOHKZu"
      },
      "execution_count": null,
      "outputs": []
    }
  ]
}